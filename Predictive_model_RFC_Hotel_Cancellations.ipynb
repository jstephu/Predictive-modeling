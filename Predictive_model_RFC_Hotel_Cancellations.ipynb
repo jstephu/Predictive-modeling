{
 "cells": [
  {
   "cell_type": "markdown",
   "metadata": {},
   "source": [
    "## Import Libriaries and Data"
   ]
  },
  {
   "cell_type": "code",
   "execution_count": 1,
   "metadata": {},
   "outputs": [],
   "source": [
    "import numpy as np\n",
    "import pandas as pd\n",
    "import matplotlib.pyplot as plt\n",
    "import seaborn as sns\n",
    "%matplotlib inline"
   ]
  },
  {
   "cell_type": "code",
   "execution_count": 2,
   "metadata": {},
   "outputs": [
    {
     "data": {
      "text/plain": [
       "'/Users/jiehu/Hotel Cancellations'"
      ]
     },
     "execution_count": 2,
     "metadata": {},
     "output_type": "execute_result"
    }
   ],
   "source": [
    "pwd"
   ]
  },
  {
   "cell_type": "code",
   "execution_count": 4,
   "metadata": {},
   "outputs": [],
   "source": [
    "hotel = pd.read_csv('/Users/jiehu/Hotel_bookings.csv')"
   ]
  },
  {
   "cell_type": "code",
   "execution_count": 5,
   "metadata": {},
   "outputs": [
    {
     "data": {
      "text/html": [
       "<div>\n",
       "<style scoped>\n",
       "    .dataframe tbody tr th:only-of-type {\n",
       "        vertical-align: middle;\n",
       "    }\n",
       "\n",
       "    .dataframe tbody tr th {\n",
       "        vertical-align: top;\n",
       "    }\n",
       "\n",
       "    .dataframe thead th {\n",
       "        text-align: right;\n",
       "    }\n",
       "</style>\n",
       "<table border=\"1\" class=\"dataframe\">\n",
       "  <thead>\n",
       "    <tr style=\"text-align: right;\">\n",
       "      <th></th>\n",
       "      <th>hotel</th>\n",
       "      <th>is_canceled</th>\n",
       "      <th>lead_time</th>\n",
       "      <th>arrival_date_year</th>\n",
       "      <th>arrival_date_month</th>\n",
       "      <th>arrival_date_week_number</th>\n",
       "      <th>arrival_date_day_of_month</th>\n",
       "      <th>stays_in_weekend_nights</th>\n",
       "      <th>stays_in_week_nights</th>\n",
       "      <th>adults</th>\n",
       "      <th>...</th>\n",
       "      <th>deposit_type</th>\n",
       "      <th>agent</th>\n",
       "      <th>company</th>\n",
       "      <th>days_in_waiting_list</th>\n",
       "      <th>customer_type</th>\n",
       "      <th>adr</th>\n",
       "      <th>required_car_parking_spaces</th>\n",
       "      <th>total_of_special_requests</th>\n",
       "      <th>reservation_status</th>\n",
       "      <th>reservation_status_date</th>\n",
       "    </tr>\n",
       "  </thead>\n",
       "  <tbody>\n",
       "    <tr>\n",
       "      <th>0</th>\n",
       "      <td>Resort Hotel</td>\n",
       "      <td>0</td>\n",
       "      <td>342</td>\n",
       "      <td>2015</td>\n",
       "      <td>July</td>\n",
       "      <td>27</td>\n",
       "      <td>1</td>\n",
       "      <td>0</td>\n",
       "      <td>0</td>\n",
       "      <td>2</td>\n",
       "      <td>...</td>\n",
       "      <td>No Deposit</td>\n",
       "      <td>NaN</td>\n",
       "      <td>NaN</td>\n",
       "      <td>0</td>\n",
       "      <td>Transient</td>\n",
       "      <td>0.0</td>\n",
       "      <td>0</td>\n",
       "      <td>0</td>\n",
       "      <td>Check-Out</td>\n",
       "      <td>2015-07-01</td>\n",
       "    </tr>\n",
       "    <tr>\n",
       "      <th>1</th>\n",
       "      <td>Resort Hotel</td>\n",
       "      <td>0</td>\n",
       "      <td>737</td>\n",
       "      <td>2015</td>\n",
       "      <td>July</td>\n",
       "      <td>27</td>\n",
       "      <td>1</td>\n",
       "      <td>0</td>\n",
       "      <td>0</td>\n",
       "      <td>2</td>\n",
       "      <td>...</td>\n",
       "      <td>No Deposit</td>\n",
       "      <td>NaN</td>\n",
       "      <td>NaN</td>\n",
       "      <td>0</td>\n",
       "      <td>Transient</td>\n",
       "      <td>0.0</td>\n",
       "      <td>0</td>\n",
       "      <td>0</td>\n",
       "      <td>Check-Out</td>\n",
       "      <td>2015-07-01</td>\n",
       "    </tr>\n",
       "  </tbody>\n",
       "</table>\n",
       "<p>2 rows × 32 columns</p>\n",
       "</div>"
      ],
      "text/plain": [
       "          hotel  is_canceled  lead_time  arrival_date_year arrival_date_month  \\\n",
       "0  Resort Hotel            0        342               2015               July   \n",
       "1  Resort Hotel            0        737               2015               July   \n",
       "\n",
       "   arrival_date_week_number  arrival_date_day_of_month  \\\n",
       "0                        27                          1   \n",
       "1                        27                          1   \n",
       "\n",
       "   stays_in_weekend_nights  stays_in_week_nights  adults  ...  deposit_type  \\\n",
       "0                        0                     0       2  ...    No Deposit   \n",
       "1                        0                     0       2  ...    No Deposit   \n",
       "\n",
       "   agent company days_in_waiting_list customer_type  adr  \\\n",
       "0    NaN     NaN                    0     Transient  0.0   \n",
       "1    NaN     NaN                    0     Transient  0.0   \n",
       "\n",
       "   required_car_parking_spaces  total_of_special_requests  reservation_status  \\\n",
       "0                            0                          0           Check-Out   \n",
       "1                            0                          0           Check-Out   \n",
       "\n",
       "  reservation_status_date  \n",
       "0              2015-07-01  \n",
       "1              2015-07-01  \n",
       "\n",
       "[2 rows x 32 columns]"
      ]
     },
     "execution_count": 5,
     "metadata": {},
     "output_type": "execute_result"
    }
   ],
   "source": [
    "hotel.head(2)"
   ]
  },
  {
   "cell_type": "markdown",
   "metadata": {},
   "source": [
    "## Data Cleansing\n",
    "### <span style=\"color:blue\"> 1.  Dealing with Missing Values </span>\n",
    "Use a heatmap to check if there are any missing values in our data frame"
   ]
  },
  {
   "cell_type": "code",
   "execution_count": 5,
   "metadata": {},
   "outputs": [
    {
     "data": {
      "text/plain": [
       "<matplotlib.axes._subplots.AxesSubplot at 0x7fef6fb82ac0>"
      ]
     },
     "execution_count": 5,
     "metadata": {},
     "output_type": "execute_result"
    },
    {
     "data": {
      "image/png": "[encoded data removed]",
      "text/plain": [
       "<Figure size 432x288 with 1 Axes>"
      ]
     },
     "metadata": {
      "needs_background": "light"
     },
     "output_type": "display_data"
    }
   ],
   "source": [
    "sns.heatmap(hotel.isnull(),yticklabels=False,cbar=False,cmap='viridis')"
   ]
  },
  {
   "cell_type": "markdown",
   "metadata": {},
   "source": [
    "There're missing values under three features:\n",
    "1.['company']: Looking at the company column, it looks like we are just missing too much of that data to do something useful but just *REMOVE COLUMN*.\n",
    "\n",
    "2.['agent']: The proportion of missing data (13.7%) is likely small enough for reasonable replacement with some form of imputation. I don't want to skew the data so decide to use the *RANDOM SAMPLING IMPUTATION* instead of MODE IMPUTATION to replace them proportionally with the existing categorical variables.\n",
    "\n",
    "3.['country']: The missing data is very small (<5%) so I'll just *REMOVE ROWS OF MISSING VALUES*."
   ]
  },
  {
   "cell_type": "markdown",
   "metadata": {},
   "source": [
    "### 1.1 Generate random values of variable 'agent' to fill null."
   ]
  },
  {
   "cell_type": "code",
   "execution_count": 7,
   "metadata": {},
   "outputs": [],
   "source": [
    "new_agent = hotel['agent'].dropna() #get a series of just the available values\n",
    "n_null = hotel['agent'].isnull().sum() #length of the missing entries"
   ]
  },
  {
   "cell_type": "code",
   "execution_count": 8,
   "metadata": {},
   "outputs": [
    {
     "data": {
      "text/plain": [
       "array([  6.,  15.,   9., ..., 229.,  12., 241.])"
      ]
     },
     "execution_count": 8,
     "metadata": {},
     "output_type": "execute_result"
    }
   ],
   "source": [
    "new_agent.sample(n_null,replace=True).values #sample it with repetition"
   ]
  },
  {
   "cell_type": "code",
   "execution_count": 9,
   "metadata": {},
   "outputs": [],
   "source": [
    "hotel.loc[hotel['agent'].isnull(),'agent'] = new_agent.sample(n_null,replace=True).values #filter and assign"
   ]
  },
  {
   "cell_type": "code",
   "execution_count": 10,
   "metadata": {
    "scrolled": false
   },
   "outputs": [
    {
     "data": {
      "text/plain": [
       "0         240.0\n",
       "1          40.0\n",
       "2         132.0\n",
       "3         304.0\n",
       "4         240.0\n",
       "          ...  \n",
       "119385    394.0\n",
       "119386      9.0\n",
       "119387      9.0\n",
       "119388     89.0\n",
       "119389      9.0\n",
       "Name: agent, Length: 119390, dtype: float64"
      ]
     },
     "execution_count": 10,
     "metadata": {},
     "output_type": "execute_result"
    }
   ],
   "source": [
    "hotel['agent']"
   ]
  },
  {
   "cell_type": "markdown",
   "metadata": {},
   "source": [
    "### 1.2 Completely Remove column of 'company'."
   ]
  },
  {
   "cell_type": "code",
   "execution_count": 11,
   "metadata": {},
   "outputs": [],
   "source": [
    "hotel.drop('company',axis=1,inplace=True)"
   ]
  },
  {
   "cell_type": "markdown",
   "metadata": {},
   "source": [
    "### 1.3 Remove rows with missing values for 'country' column."
   ]
  },
  {
   "cell_type": "code",
   "execution_count": 12,
   "metadata": {},
   "outputs": [],
   "source": [
    "hotel.dropna(axis=0,inplace=True)"
   ]
  },
  {
   "cell_type": "code",
   "execution_count": 13,
   "metadata": {},
   "outputs": [
    {
     "data": {
      "text/plain": [
       "hotel                             0\n",
       "is_canceled                       0\n",
       "lead_time                         0\n",
       "arrival_date_year                 0\n",
       "arrival_date_month                0\n",
       "arrival_date_week_number          0\n",
       "arrival_date_day_of_month         0\n",
       "stays_in_weekend_nights           0\n",
       "stays_in_week_nights              0\n",
       "adults                            0\n",
       "children                          0\n",
       "babies                            0\n",
       "meal                              0\n",
       "country                           0\n",
       "market_segment                    0\n",
       "distribution_channel              0\n",
       "is_repeated_guest                 0\n",
       "previous_cancellations            0\n",
       "previous_bookings_not_canceled    0\n",
       "reserved_room_type                0\n",
       "assigned_room_type                0\n",
       "booking_changes                   0\n",
       "deposit_type                      0\n",
       "agent                             0\n",
       "days_in_waiting_list              0\n",
       "customer_type                     0\n",
       "adr                               0\n",
       "required_car_parking_spaces       0\n",
       "total_of_special_requests         0\n",
       "reservation_status                0\n",
       "reservation_status_date           0\n",
       "dtype: int64"
      ]
     },
     "execution_count": 13,
     "metadata": {},
     "output_type": "execute_result"
    }
   ],
   "source": [
    "hotel.isnull().sum()"
   ]
  },
  {
   "cell_type": "markdown",
   "metadata": {},
   "source": [
    "## Now nulls are all cleared, let's prepare dataset for Modeling!\n",
    "### <span style=\"color:blue\"> 2.  Converting Categorical Features </span>\n",
    "*We'll need to convert categorical features to dummy variables using pandas! Otherwise our machine learning algorithm won't be able to directly take in those features as inputs."
   ]
  },
  {
   "cell_type": "code",
   "execution_count": 161,
   "metadata": {
    "scrolled": true
   },
   "outputs": [
    {
     "name": "stdout",
     "output_type": "stream",
     "text": [
      "<class 'pandas.core.frame.DataFrame'>\n",
      "Int64Index: 118898 entries, 0 to 119389\n",
      "Data columns (total 31 columns):\n",
      " #   Column                          Non-Null Count   Dtype  \n",
      "---  ------                          --------------   -----  \n",
      " 0   hotel                           118898 non-null  object \n",
      " 1   is_canceled                     118898 non-null  int64  \n",
      " 2   lead_time                       118898 non-null  int64  \n",
      " 3   arrival_date_year               118898 non-null  int64  \n",
      " 4   arrival_date_month              118898 non-null  object \n",
      " 5   arrival_date_week_number        118898 non-null  int64  \n",
      " 6   arrival_date_day_of_month       118898 non-null  int64  \n",
      " 7   stays_in_weekend_nights         118898 non-null  int64  \n",
      " 8   stays_in_week_nights            118898 non-null  int64  \n",
      " 9   adults                          118898 non-null  int64  \n",
      " 10  children                        118898 non-null  float64\n",
      " 11  babies                          118898 non-null  int64  \n",
      " 12  meal                            118898 non-null  object \n",
      " 13  country                         118898 non-null  object \n",
      " 14  market_segment                  118898 non-null  object \n",
      " 15  distribution_channel            118898 non-null  object \n",
      " 16  is_repeated_guest               118898 non-null  int64  \n",
      " 17  previous_cancellations          118898 non-null  int64  \n",
      " 18  previous_bookings_not_canceled  118898 non-null  int64  \n",
      " 19  reserved_room_type              118898 non-null  object \n",
      " 20  assigned_room_type              118898 non-null  object \n",
      " 21  booking_changes                 118898 non-null  int64  \n",
      " 22  deposit_type                    118898 non-null  object \n",
      " 23  agent                           118898 non-null  float64\n",
      " 24  days_in_waiting_list            118898 non-null  int64  \n",
      " 25  customer_type                   118898 non-null  object \n",
      " 26  adr                             118898 non-null  float64\n",
      " 27  required_car_parking_spaces     118898 non-null  int64  \n",
      " 28  total_of_special_requests       118898 non-null  int64  \n",
      " 29  reservation_status              118898 non-null  object \n",
      " 30  reservation_status_date         118898 non-null  object \n",
      "dtypes: float64(3), int64(16), object(12)\n",
      "memory usage: 34.0+ MB\n"
     ]
    }
   ],
   "source": [
    "hotel.info()"
   ]
  },
  {
   "cell_type": "markdown",
   "metadata": {},
   "source": [
    "**Filtering before pd.get_dummy()**: There're 12 categorical features, but I won't convert them all to dummy variables. I need to leave out those with large distinctive observations and only convert the rest. So let's check out how many unique values per feature first:"
   ]
  },
  {
   "cell_type": "code",
   "execution_count": 25,
   "metadata": {
    "scrolled": true
   },
   "outputs": [
    {
     "data": {
      "text/plain": [
       "[2, 12, 12, 4, 3, 5, 7, 5, 10, 177, 3, 926]"
      ]
     },
     "execution_count": 25,
     "metadata": {},
     "output_type": "execute_result"
    }
   ],
   "source": [
    "#create a categorical feature list\n",
    "cat_feats = ['hotel','arrival_date_month','assigned_room_type','customer_type','deposit_type','distribution_channel',\n",
    "             'market_segment','meal','reserved_room_type','country','reservation_status','reservation_status_date']\n",
    "\n",
    "#make a list of unique numbers per categorical column\n",
    "n_unique = hotel[cat_feats].nunique().to_list()\n",
    "n_unique"
   ]
  },
  {
   "cell_type": "markdown",
   "metadata": {},
   "source": [
    "Need to leave out feature of 'country' (177 unique values) and 'reseration_status_date' (926) for the large number of unique observations.\n",
    "\n",
    "Also need to leave out the feature of 'reservation_status' because it stated whether the booking is canceled or not."
   ]
  },
  {
   "cell_type": "code",
   "execution_count": 16,
   "metadata": {},
   "outputs": [],
   "source": [
    "#make a new list of final categorical features (9) to be convert\n",
    "cat_list = ['hotel','arrival_date_month','assigned_room_type','customer_type','deposit_type','distribution_channel',\n",
    "             'market_segment','meal','reserved_room_type']"
   ]
  },
  {
   "cell_type": "markdown",
   "metadata": {},
   "source": [
    "**Get Dummies**"
   ]
  },
  {
   "cell_type": "code",
   "execution_count": 17,
   "metadata": {},
   "outputs": [],
   "source": [
    "final_hotel = pd.get_dummies(hotel,columns=cat_list,drop_first=True)\n",
    "final_hotel.drop(['country','reservation_status_date','reservation_status'],axis=1,inplace=True)"
   ]
  },
  {
   "cell_type": "markdown",
   "metadata": {},
   "source": [
    "**Correlation of features with target label 'is_canceled'**"
   ]
  },
  {
   "cell_type": "code",
   "execution_count": 41,
   "metadata": {},
   "outputs": [
    {
     "data": {
      "text/html": [
       "<div>\n",
       "<style scoped>\n",
       "    .dataframe tbody tr th:only-of-type {\n",
       "        vertical-align: middle;\n",
       "    }\n",
       "\n",
       "    .dataframe tbody tr th {\n",
       "        vertical-align: top;\n",
       "    }\n",
       "\n",
       "    .dataframe thead th {\n",
       "        text-align: right;\n",
       "    }\n",
       "</style>\n",
       "<table border=\"1\" class=\"dataframe\">\n",
       "  <thead>\n",
       "    <tr style=\"text-align: right;\">\n",
       "      <th></th>\n",
       "      <th>is_canceled</th>\n",
       "    </tr>\n",
       "  </thead>\n",
       "  <tbody>\n",
       "    <tr>\n",
       "      <th>is_canceled</th>\n",
       "      <td>1.000000</td>\n",
       "    </tr>\n",
       "    <tr>\n",
       "      <th>deposit_type_Non Refund</th>\n",
       "      <td>0.481349</td>\n",
       "    </tr>\n",
       "    <tr>\n",
       "      <th>lead_time</th>\n",
       "      <td>0.291994</td>\n",
       "    </tr>\n",
       "    <tr>\n",
       "      <th>market_segment_Groups</th>\n",
       "      <td>0.221538</td>\n",
       "    </tr>\n",
       "    <tr>\n",
       "      <th>distribution_channel_TA/TO</th>\n",
       "      <td>0.174134</td>\n",
       "    </tr>\n",
       "    <tr>\n",
       "      <th>customer_type_Transient</th>\n",
       "      <td>0.134473</td>\n",
       "    </tr>\n",
       "    <tr>\n",
       "      <th>previous_cancellations</th>\n",
       "      <td>0.109922</td>\n",
       "    </tr>\n",
       "    <tr>\n",
       "      <th>adults</th>\n",
       "      <td>0.058381</td>\n",
       "    </tr>\n",
       "    <tr>\n",
       "      <th>days_in_waiting_list</th>\n",
       "      <td>0.054016</td>\n",
       "    </tr>\n",
       "    <tr>\n",
       "      <th>adr</th>\n",
       "      <td>0.046199</td>\n",
       "    </tr>\n",
       "  </tbody>\n",
       "</table>\n",
       "</div>"
      ],
      "text/plain": [
       "                            is_canceled\n",
       "is_canceled                    1.000000\n",
       "deposit_type_Non Refund        0.481349\n",
       "lead_time                      0.291994\n",
       "market_segment_Groups          0.221538\n",
       "distribution_channel_TA/TO     0.174134\n",
       "customer_type_Transient        0.134473\n",
       "previous_cancellations         0.109922\n",
       "adults                         0.058381\n",
       "days_in_waiting_list           0.054016\n",
       "adr                            0.046199"
      ]
     },
     "execution_count": 41,
     "metadata": {},
     "output_type": "execute_result"
    }
   ],
   "source": [
    "#calc the correlations with label column 'is_canceled'\n",
    "df_corr = pd.DataFrame(final_hotel.corr()['is_canceled'])\n",
    "#display top 10 features of positive correlations\n",
    "df_corr.sort_values(by=['is_canceled'],ascending=False).head(10)"
   ]
  },
  {
   "cell_type": "code",
   "execution_count": 42,
   "metadata": {},
   "outputs": [
    {
     "data": {
      "text/html": [
       "<div>\n",
       "<style scoped>\n",
       "    .dataframe tbody tr th:only-of-type {\n",
       "        vertical-align: middle;\n",
       "    }\n",
       "\n",
       "    .dataframe tbody tr th {\n",
       "        vertical-align: top;\n",
       "    }\n",
       "\n",
       "    .dataframe thead th {\n",
       "        text-align: right;\n",
       "    }\n",
       "</style>\n",
       "<table border=\"1\" class=\"dataframe\">\n",
       "  <thead>\n",
       "    <tr style=\"text-align: right;\">\n",
       "      <th></th>\n",
       "      <th>is_canceled</th>\n",
       "    </tr>\n",
       "  </thead>\n",
       "  <tbody>\n",
       "    <tr>\n",
       "      <th>total_of_special_requests</th>\n",
       "      <td>-0.235643</td>\n",
       "    </tr>\n",
       "    <tr>\n",
       "      <th>required_car_parking_spaces</th>\n",
       "      <td>-0.194796</td>\n",
       "    </tr>\n",
       "    <tr>\n",
       "      <th>market_segment_Direct</th>\n",
       "      <td>-0.153660</td>\n",
       "    </tr>\n",
       "    <tr>\n",
       "      <th>distribution_channel_Direct</th>\n",
       "      <td>-0.150900</td>\n",
       "    </tr>\n",
       "    <tr>\n",
       "      <th>booking_changes</th>\n",
       "      <td>-0.144659</td>\n",
       "    </tr>\n",
       "    <tr>\n",
       "      <th>hotel_Resort Hotel</th>\n",
       "      <td>-0.133964</td>\n",
       "    </tr>\n",
       "    <tr>\n",
       "      <th>assigned_room_type_D</th>\n",
       "      <td>-0.127349</td>\n",
       "    </tr>\n",
       "    <tr>\n",
       "      <th>customer_type_Transient-Party</th>\n",
       "      <td>-0.125436</td>\n",
       "    </tr>\n",
       "    <tr>\n",
       "      <th>is_repeated_guest</th>\n",
       "      <td>-0.085179</td>\n",
       "    </tr>\n",
       "    <tr>\n",
       "      <th>market_segment_Corporate</th>\n",
       "      <td>-0.078955</td>\n",
       "    </tr>\n",
       "  </tbody>\n",
       "</table>\n",
       "</div>"
      ],
      "text/plain": [
       "                               is_canceled\n",
       "total_of_special_requests        -0.235643\n",
       "required_car_parking_spaces      -0.194796\n",
       "market_segment_Direct            -0.153660\n",
       "distribution_channel_Direct      -0.150900\n",
       "booking_changes                  -0.144659\n",
       "hotel_Resort Hotel               -0.133964\n",
       "assigned_room_type_D             -0.127349\n",
       "customer_type_Transient-Party    -0.125436\n",
       "is_repeated_guest                -0.085179\n",
       "market_segment_Corporate         -0.078955"
      ]
     },
     "execution_count": 42,
     "metadata": {},
     "output_type": "execute_result"
    }
   ],
   "source": [
    "#display top 10 features with negative correlations\n",
    "df_corr.sort_values(by=['is_canceled']).head(10)"
   ]
  },
  {
   "cell_type": "markdown",
   "metadata": {},
   "source": [
    "## Train Test Split\n",
    "\n",
    "Now its time to split our data into a training set and a testing set!"
   ]
  },
  {
   "cell_type": "code",
   "execution_count": 44,
   "metadata": {},
   "outputs": [],
   "source": [
    "from sklearn.model_selection import train_test_split"
   ]
  },
  {
   "cell_type": "code",
   "execution_count": 46,
   "metadata": {},
   "outputs": [],
   "source": [
    "X = final_hotel.drop('is_canceled',axis=1)\n",
    "y = final_hotel['is_canceled']\n",
    "X_train, X_test, y_train, y_test = train_test_split(X, y, test_size=0.3, random_state=101)"
   ]
  },
  {
   "cell_type": "markdown",
   "metadata": {},
   "source": [
    "## Training the Random Forest model\n",
    "Create an instance of the RandomForestClassifier class and fit it to our training data from the previous step."
   ]
  },
  {
   "cell_type": "code",
   "execution_count": 51,
   "metadata": {},
   "outputs": [],
   "source": [
    "from sklearn.ensemble import RandomForestClassifier"
   ]
  },
  {
   "cell_type": "code",
   "execution_count": 52,
   "metadata": {},
   "outputs": [],
   "source": [
    "rfc = RandomForestClassifier(n_estimators=100)"
   ]
  },
  {
   "cell_type": "code",
   "execution_count": 53,
   "metadata": {},
   "outputs": [
    {
     "data": {
      "text/plain": [
       "RandomForestClassifier()"
      ]
     },
     "execution_count": 53,
     "metadata": {},
     "output_type": "execute_result"
    }
   ],
   "source": [
    "rfc.fit(X_train,y_train)"
   ]
  },
  {
   "cell_type": "markdown",
   "metadata": {},
   "source": [
    "## Predictions and Evaluation\n",
    "\n",
    "Let's predict off the y_test values and evaluate our model.\n",
    "\n",
    "** Predict the class of is_canceled for the X_test data.**"
   ]
  },
  {
   "cell_type": "code",
   "execution_count": 54,
   "metadata": {},
   "outputs": [],
   "source": [
    "pred_rfc = rfc.predict(X_test)"
   ]
  },
  {
   "cell_type": "markdown",
   "metadata": {},
   "source": [
    "**Now create a classification report from the results. Do you get anything strange or some sort of warning?**"
   ]
  },
  {
   "cell_type": "code",
   "execution_count": 55,
   "metadata": {},
   "outputs": [],
   "source": [
    "from sklearn.metrics import classification_report,confusion_matrix"
   ]
  },
  {
   "cell_type": "code",
   "execution_count": 56,
   "metadata": {},
   "outputs": [
    {
     "name": "stdout",
     "output_type": "stream",
     "text": [
      "[[21028  1499]\n",
      " [ 3143 10000]]\n",
      "\n",
      "              precision    recall  f1-score   support\n",
      "\n",
      "           0       0.87      0.93      0.90     22527\n",
      "           1       0.87      0.76      0.81     13143\n",
      "\n",
      "    accuracy                           0.87     35670\n",
      "   macro avg       0.87      0.85      0.86     35670\n",
      "weighted avg       0.87      0.87      0.87     35670\n",
      "\n"
     ]
    }
   ],
   "source": [
    "print(confusion_matrix(y_test,pred_rfc))\n",
    "print('')\n",
    "print(classification_report(y_test,pred_rfc))"
   ]
  },
  {
   "cell_type": "markdown",
   "metadata": {},
   "source": [
    "# Choosing a value of n_estimators\n",
    "Let's go ahead and use the below method to pick a good value of n_estimator!\n",
    "\n",
    "** I'll try two methods to look for the right n_estimators: 1) Create a for loop that trains various Random Forest models with different n_estimators, then keep track of the error_rate for each of these models with a list. 2) GridSearchCV**"
   ]
  },
  {
   "cell_type": "markdown",
   "metadata": {},
   "source": [
    "**1) Error Rate Method:**"
   ]
  },
  {
   "cell_type": "code",
   "execution_count": null,
   "metadata": {},
   "outputs": [],
   "source": [
    "error_rate = []\n",
    "for i in range(1,300):\n",
    "    rfc = RandomForestClassifier(n_estimators=i)\n",
    "    rfc.fit(X_train,y_train)\n",
    "    pred_i = rfc.predict(X_test)\n",
    "    error_rate.append(np.mean(pred_i != y_test))"
   ]
  },
  {
   "cell_type": "markdown",
   "metadata": {},
   "source": [
    "**Second thought on choosing n_estimator: The more trees the more it exptected to train. Therefore, should not test every single numbers but limit my experiments and do it in big increments, like i in range(10,100,200,300)** "
   ]
  },
  {
   "cell_type": "code",
   "execution_count": null,
   "metadata": {},
   "outputs": [],
   "source": [
    "plt.figure(figsize=(10,8))\n",
    "plt.plot(range(1,300),error_rate,linestyle='--',marker='o',markerfacecolor='red')"
   ]
  },
  {
   "cell_type": "code",
   "execution_count": 61,
   "metadata": {},
   "outputs": [],
   "source": [
    "er_rate = []\n",
    "for i in [50,100,125,150,200,250]:\n",
    "    rfc = RandomForestClassifier(n_estimators=i)\n",
    "    rfc.fit(X_train,y_train)\n",
    "    pred_i = rfc.predict(X_test)\n",
    "    er_rate.append(np.mean(pred_i != y_test))"
   ]
  },
  {
   "cell_type": "code",
   "execution_count": 63,
   "metadata": {},
   "outputs": [
    {
     "data": {
      "text/plain": [
       "[<matplotlib.lines.Line2D at 0x7fef2720f430>]"
      ]
     },
     "execution_count": 63,
     "metadata": {},
     "output_type": "execute_result"
    },
    {
     "data": {
      "image/png": "[encoded data removed]",
      "text/plain": [
       "<Figure size 720x432 with 1 Axes>"
      ]
     },
     "metadata": {
      "needs_background": "light"
     },
     "output_type": "display_data"
    }
   ],
   "source": [
    "plt.figure(figsize=(10,6))\n",
    "plt.plot([50,100,125,150,200,250],er_rate,linestyle='--',marker='o',markerfacecolor='red')"
   ]
  },
  {
   "cell_type": "markdown",
   "metadata": {},
   "source": [
    "**2) GridSearch method:**"
   ]
  },
  {
   "cell_type": "markdown",
   "metadata": {},
   "source": [
    "**Predefine hyperparameters: Create a dictionary called param_grid and fill out parameters for n_estimators:**"
   ]
  },
  {
   "cell_type": "code",
   "execution_count": 64,
   "metadata": {},
   "outputs": [],
   "source": [
    "param_grid = {'n_estimators':[50,100,125,150,200,250]}"
   ]
  },
  {
   "cell_type": "markdown",
   "metadata": {},
   "source": [
    "**Initiate the rfc model:**"
   ]
  },
  {
   "cell_type": "code",
   "execution_count": 65,
   "metadata": {},
   "outputs": [],
   "source": [
    "rf_c = RandomForestClassifier()"
   ]
  },
  {
   "cell_type": "markdown",
   "metadata": {},
   "source": [
    "**Create a GridSearchCV object and fit it to the training data:**"
   ]
  },
  {
   "cell_type": "code",
   "execution_count": 66,
   "metadata": {},
   "outputs": [],
   "source": [
    "from sklearn.model_selection import GridSearchCV"
   ]
  },
  {
   "cell_type": "code",
   "execution_count": 67,
   "metadata": {},
   "outputs": [],
   "source": [
    "grid = GridSearchCV(estimator=rf_c,param_grid=param_grid,verbose=2) #verbose=the text output describing the process"
   ]
  },
  {
   "cell_type": "code",
   "execution_count": 68,
   "metadata": {},
   "outputs": [
    {
     "name": "stdout",
     "output_type": "stream",
     "text": [
      "Fitting 5 folds for each of 6 candidates, totalling 30 fits\n",
      "[CV] n_estimators=50 .................................................\n"
     ]
    },
    {
     "name": "stderr",
     "output_type": "stream",
     "text": [
      "[Parallel(n_jobs=1)]: Using backend SequentialBackend with 1 concurrent workers.\n"
     ]
    },
    {
     "name": "stdout",
     "output_type": "stream",
     "text": [
      "[CV] .................................. n_estimators=50, total=   6.6s\n",
      "[CV] n_estimators=50 .................................................\n"
     ]
    },
    {
     "name": "stderr",
     "output_type": "stream",
     "text": [
      "[Parallel(n_jobs=1)]: Done   1 out of   1 | elapsed:    6.6s remaining:    0.0s\n"
     ]
    },
    {
     "name": "stdout",
     "output_type": "stream",
     "text": [
      "[CV] .................................. n_estimators=50, total=   8.5s\n",
      "[CV] n_estimators=50 .................................................\n",
      "[CV] .................................. n_estimators=50, total=   7.5s\n",
      "[CV] n_estimators=50 .................................................\n",
      "[CV] .................................. n_estimators=50, total=   6.9s\n",
      "[CV] n_estimators=50 .................................................\n",
      "[CV] .................................. n_estimators=50, total=   7.2s\n",
      "[CV] n_estimators=100 ................................................\n",
      "[CV] ................................. n_estimators=100, total=  15.2s\n",
      "[CV] n_estimators=100 ................................................\n",
      "[CV] ................................. n_estimators=100, total=  13.1s\n",
      "[CV] n_estimators=100 ................................................\n",
      "[CV] ................................. n_estimators=100, total=  13.5s\n",
      "[CV] n_estimators=100 ................................................\n",
      "[CV] ................................. n_estimators=100, total=  13.3s\n",
      "[CV] n_estimators=100 ................................................\n",
      "[CV] ................................. n_estimators=100, total=  13.2s\n",
      "[CV] n_estimators=125 ................................................\n",
      "[CV] ................................. n_estimators=125, total=  16.5s\n",
      "[CV] n_estimators=125 ................................................\n",
      "[CV] ................................. n_estimators=125, total=  17.3s\n",
      "[CV] n_estimators=125 ................................................\n",
      "[CV] ................................. n_estimators=125, total=  19.6s\n",
      "[CV] n_estimators=125 ................................................\n",
      "[CV] ................................. n_estimators=125, total=  16.8s\n",
      "[CV] n_estimators=125 ................................................\n",
      "[CV] ................................. n_estimators=125, total=  19.0s\n",
      "[CV] n_estimators=150 ................................................\n",
      "[CV] ................................. n_estimators=150, total=  20.0s\n",
      "[CV] n_estimators=150 ................................................\n",
      "[CV] ................................. n_estimators=150, total=  20.3s\n",
      "[CV] n_estimators=150 ................................................\n",
      "[CV] ................................. n_estimators=150, total=  19.6s\n",
      "[CV] n_estimators=150 ................................................\n",
      "[CV] ................................. n_estimators=150, total=  19.5s\n",
      "[CV] n_estimators=150 ................................................\n",
      "[CV] ................................. n_estimators=150, total=  19.3s\n",
      "[CV] n_estimators=200 ................................................\n",
      "[CV] ................................. n_estimators=200, total=  25.8s\n",
      "[CV] n_estimators=200 ................................................\n",
      "[CV] ................................. n_estimators=200, total=  25.6s\n",
      "[CV] n_estimators=200 ................................................\n",
      "[CV] ................................. n_estimators=200, total=  25.9s\n",
      "[CV] n_estimators=200 ................................................\n",
      "[CV] ................................. n_estimators=200, total=  25.6s\n",
      "[CV] n_estimators=200 ................................................\n",
      "[CV] ................................. n_estimators=200, total=  25.6s\n",
      "[CV] n_estimators=250 ................................................\n",
      "[CV] ................................. n_estimators=250, total=  32.0s\n",
      "[CV] n_estimators=250 ................................................\n",
      "[CV] ................................. n_estimators=250, total=  32.1s\n",
      "[CV] n_estimators=250 ................................................\n",
      "[CV] ................................. n_estimators=250, total=  31.8s\n",
      "[CV] n_estimators=250 ................................................\n",
      "[CV] ................................. n_estimators=250, total=  32.0s\n",
      "[CV] n_estimators=250 ................................................\n",
      "[CV] ................................. n_estimators=250, total=  32.0s\n"
     ]
    },
    {
     "name": "stderr",
     "output_type": "stream",
     "text": [
      "[Parallel(n_jobs=1)]: Done  30 out of  30 | elapsed:  9.7min finished\n"
     ]
    },
    {
     "data": {
      "text/plain": [
       "GridSearchCV(estimator=RandomForestClassifier(),\n",
       "             param_grid={'n_estimators': [50, 100, 125, 150, 200, 250]},\n",
       "             verbose=2)"
      ]
     },
     "execution_count": 68,
     "metadata": {},
     "output_type": "execute_result"
    }
   ],
   "source": [
    "grid.fit(X_train,y_train)"
   ]
  },
  {
   "cell_type": "code",
   "execution_count": 69,
   "metadata": {},
   "outputs": [
    {
     "data": {
      "text/plain": [
       "{'n_estimators': 250}"
      ]
     },
     "execution_count": 69,
     "metadata": {},
     "output_type": "execute_result"
    }
   ],
   "source": [
    "grid.best_params_"
   ]
  },
  {
   "cell_type": "markdown",
   "metadata": {},
   "source": [
    "## Retrain with new n_estimator Value\n",
    "\n",
    "**Retrain your model with the best n_estimator value (up to you to decide what you want) and re-do the classification report and the confusion matrix.**"
   ]
  },
  {
   "cell_type": "code",
   "execution_count": 70,
   "metadata": {},
   "outputs": [],
   "source": [
    "rfc = RandomForestClassifier(n_estimators=250)\n",
    "rfc.fit(X_train,y_train)\n",
    "pred = rfc.predict(X_test)"
   ]
  },
  {
   "cell_type": "code",
   "execution_count": 71,
   "metadata": {},
   "outputs": [
    {
     "name": "stdout",
     "output_type": "stream",
     "text": [
      "[[21024  1503]\n",
      " [ 3134 10009]]\n",
      "\n",
      "              precision    recall  f1-score   support\n",
      "\n",
      "           0       0.87      0.93      0.90     22527\n",
      "           1       0.87      0.76      0.81     13143\n",
      "\n",
      "    accuracy                           0.87     35670\n",
      "   macro avg       0.87      0.85      0.86     35670\n",
      "weighted avg       0.87      0.87      0.87     35670\n",
      "\n"
     ]
    }
   ],
   "source": [
    "print(confusion_matrix(y_test,pred))\n",
    "print('')\n",
    "print(classification_report(y_test,pred))"
   ]
  },
  {
   "cell_type": "markdown",
   "metadata": {},
   "source": [
    "**Feature Importance**"
   ]
  },
  {
   "cell_type": "code",
   "execution_count": 77,
   "metadata": {},
   "outputs": [
    {
     "data": {
      "text/plain": [
       "[('is_canceled', 0.14009958610931467),\n",
       " ('lead_time', 0.019979785004370868),\n",
       " ('arrival_date_year', 0.05285972907279855),\n",
       " ('arrival_date_week_number', 0.06503702840146938),\n",
       " ('arrival_date_day_of_month', 0.02752175842033394),\n",
       " ('stays_in_weekend_nights', 0.04288658054940345),\n",
       " ('stays_in_week_nights', 0.015379398896419365),\n",
       " ('adults', 0.006561176689870701),\n",
       " ('children', 0.0010129513708943528),\n",
       " ('babies', 0.002295293951851459),\n",
       " ('is_repeated_guest', 0.040018823035574226),\n",
       " ('previous_cancellations', 0.0037385197714242735),\n",
       " ('previous_bookings_not_canceled', 0.022534959520683285),\n",
       " ('booking_changes', 0.0518485745293888),\n",
       " ('agent', 0.003740865739401705),\n",
       " ('days_in_waiting_list', 0.08851778374662415),\n",
       " ('adr', 0.021013968470746987),\n",
       " ('required_car_parking_spaces', 0.06343509010858868),\n",
       " ('total_of_special_requests', 0.009489992506941821),\n",
       " ('hotel_Resort Hotel', 0.005534466409615837),\n",
       " ('arrival_date_month_August', 0.002674893838019511),\n",
       " ('arrival_date_month_December', 0.0035166860008014884),\n",
       " ('arrival_date_month_February', 0.0025353335040730865),\n",
       " ('arrival_date_month_January', 0.005521746044722316),\n",
       " ('arrival_date_month_July', 0.004776105145822769),\n",
       " ('arrival_date_month_June', 0.0041389236651619594),\n",
       " ('arrival_date_month_March', 0.0050200456404133455),\n",
       " ('arrival_date_month_May', 0.0029795936247305555),\n",
       " ('arrival_date_month_November', 0.00388790998580325),\n",
       " ('arrival_date_month_October', 0.003732318128861592),\n",
       " ('arrival_date_month_September', 0.002636246463016607),\n",
       " ('assigned_room_type_B', 0.0021170796628395775),\n",
       " ('assigned_room_type_C', 0.011925047890536207),\n",
       " ('assigned_room_type_D', 0.004293813819752643),\n",
       " ('assigned_room_type_E', 0.0023906719801433875),\n",
       " ('assigned_room_type_F', 0.001484744852575012),\n",
       " ('assigned_room_type_G', 0.0004992674472264255),\n",
       " ('assigned_room_type_H', 0.0003758443496988237),\n",
       " ('assigned_room_type_I', 0.0003585512444015788),\n",
       " ('assigned_room_type_K', 1.0855456880237284e-05),\n",
       " ('assigned_room_type_L', 1.4249385869266763e-05),\n",
       " ('assigned_room_type_P', 0.00037495849603922515),\n",
       " ('customer_type_Group', 0.019238739692177587),\n",
       " ('customer_type_Transient', 0.014481846797327416),\n",
       " ('customer_type_Transient-Party', 0.11928928519785692),\n",
       " ('deposit_type_Non Refund', 0.0003301900451771125),\n",
       " ('deposit_type_Refundable', 0.004922478911149461),\n",
       " ('distribution_channel_Direct', 0.00020192383493388173),\n",
       " ('distribution_channel_GDS', 0.00860143867454028),\n",
       " ('distribution_channel_TA/TO', 3.906139006339243e-09),\n",
       " ('distribution_channel_Undefined', 0.00035368004754987874),\n",
       " ('market_segment_Complementary', 0.002179317632066091),\n",
       " ('market_segment_Corporate', 0.004978502202552213),\n",
       " ('market_segment_Direct', 0.01704328816152541),\n",
       " ('market_segment_Groups', 0.010364119913666097),\n",
       " ('market_segment_Offline TA/TO', 0.01711443823332578),\n",
       " ('market_segment_Online TA', 0.0013637732286022098),\n",
       " ('meal_FB', 0.0077764632212076025),\n",
       " ('meal_HB', 0.005696598239133135),\n",
       " ('meal_SC', 0.0009926013644851342),\n",
       " ('meal_Undefined', 0.0011465798448018658),\n",
       " ('reserved_room_type_B', 0.0008634890919317289),\n",
       " ('reserved_room_type_C', 0.007864412132842287),\n",
       " ('reserved_room_type_D', 0.0032665411498007837),\n",
       " ('reserved_room_type_E', 0.001486292350014351),\n",
       " ('reserved_room_type_F', 0.0011891300098821086),\n",
       " ('reserved_room_type_G', 0.00044273406761798903),\n",
       " ('reserved_room_type_H', 2.4183912879647446e-05),\n",
       " ('reserved_room_type_L', 1.672920370877585e-05)]"
      ]
     },
     "execution_count": 77,
     "metadata": {},
     "output_type": "execute_result"
    }
   ],
   "source": [
    "list(zip(final_hotel.columns,rfc.feature_importances_))"
   ]
  },
  {
   "cell_type": "code",
   "execution_count": null,
   "metadata": {},
   "outputs": [],
   "source": []
  },
  {
   "cell_type": "markdown",
   "metadata": {},
   "source": [
    "## <span style=\"color:red\"> *----------------End!!----------------* </span>"
   ]
  }
 ],
 "metadata": {
  "kernelspec": {
   "display_name": "Python 3",
   "language": "python",
   "name": "python3"
  },
  "language_info": {
   "codemirror_mode": {
    "name": "ipython",
    "version": 3
   },
   "file_extension": ".py",
   "mimetype": "text/x-python",
   "name": "python",
   "nbconvert_exporter": "python",
   "pygments_lexer": "ipython3",
   "version": "3.8.3"
  }
 },
 "nbformat": 4,
 "nbformat_minor": 4
}
